{
 "cells": [
  {
   "cell_type": "markdown",
   "id": "c929823b-6be3-4ed9-a0d2-bfe61cf8ce2f",
   "metadata": {},
   "source": [
    "## DIANNA demo with MNIST\n",
    "\n",
    "This notebook showcases the use of DIANNA on a subset of the MNIST\n",
    "dataset. MNIST contains handwritten digits from 0 to 10. Here, we only\n",
    "use 0 and 1. A binary classifier is then trained and examined with DIANNA."
   ]
  },
  {
   "cell_type": "markdown",
   "id": "030c6a14-80a4-4fca-a0c7-73f2e54fa16c",
   "metadata": {},
   "source": [
    "#### Install and import packages"
   ]
  },
  {
   "cell_type": "code",
   "execution_count": null,
   "id": "b0b1e262-9f12-45ad-98ec-ffb5229b6a1d",
   "metadata": {
    "tags": []
   },
   "outputs": [],
   "source": [
    "!pip install git+https://github.com/dianna-ai/dianna.git"
   ]
  },
  {
   "cell_type": "code",
   "execution_count": null,
   "id": "ea1fe682-a7f7-43bb-867f-60c2ecaa3c8f",
   "metadata": {},
   "outputs": [],
   "source": [
    "import numpy as np\n",
    "import matplotlib.pyplot as plt\n",
    "import onnxruntime as ort\n",
    "from scipy.special import softmax\n",
    "\n",
    "np.random.seed(42)"
   ]
  },
  {
   "cell_type": "markdown",
   "id": "d7d5105b-be58-4e96-9436-6cebb692e332",
   "metadata": {},
   "source": [
    "#### Load binary MNIST dataset"
   ]
  },
  {
   "cell_type": "code",
   "execution_count": null,
   "id": "4a566505-a6a1-4eb8-8ee5-498a302d408d",
   "metadata": {},
   "outputs": [],
   "source": [
    "data = np.load('data/binary-mnist-data.npz')\n",
    "X = data['X_test'].astype(np.float32).reshape([-1, 28, 28, 1])\n",
    "y = data['y_test']"
   ]
  },
  {
   "cell_type": "code",
   "execution_count": null,
   "id": "da587a27-dedb-4f81-88ef-62bed4c6ee5c",
   "metadata": {
    "tags": []
   },
   "outputs": [],
   "source": [
    "# Select a few random samples\n",
    "selection = np.random.choice(len(X), 9, replace=False)\n",
    "X_examples = X[selection]\n",
    "y_examples = y[selection]\n",
    "\n",
    "# Visualize the selected data\n",
    "fig, axes = plt.subplots(3, 3, figsize=(6, 6))\n",
    "for idx, ax in enumerate(axes.flatten()):\n",
    "    ax.imshow(X[selection[idx]], cmap='gray')\n",
    "    ax.set_title(f'label: {y[selection[idx]]}')\n",
    "    ax.axis('off')"
   ]
  },
  {
   "cell_type": "markdown",
   "id": "4d4bc747-8aa8-4d7b-9dca-28f8c4eaf395",
   "metadata": {},
   "source": [
    "#### Load pre-trained model\n",
    "\n",
    "DIANNA includes a tool to load an ONNX-format model."
   ]
  },
  {
   "cell_type": "code",
   "execution_count": null,
   "id": "07688d38-a15b-4e57-972c-e5913a55b599",
   "metadata": {},
   "outputs": [],
   "source": [
    "from dianna.utils.onnx_runner import SimpleModelRunner"
   ]
  },
  {
   "cell_type": "code",
   "execution_count": null,
   "id": "7dac6cd5-5180-48c5-9b14-194b0760f0a0",
   "metadata": {},
   "outputs": [],
   "source": [
    "# create a class so we can get predictions out with a single call without having to reload the file every time.\n",
    "class Runner:\n",
    "    def __init__(self):\n",
    "        self.model_runner = SimpleModelRunner('models/binary-mnist-model.onnx')\n",
    "\n",
    "    def __call__(self, input_data):\n",
    "        input_data = input_data.reshape(-1, 1, 28, 28)\n",
    "        output = self.model_runner(input_data)\n",
    "        return softmax(output)\n",
    "    \n",
    "runner = Runner()\n",
    "\n",
    "y_pred = np.argmax(runner(X_examples), axis=1)\n",
    "print(y_pred)"
   ]
  },
  {
   "cell_type": "markdown",
   "id": "f4ebabff-1ac9-4fb5-a124-b9a38025ded6",
   "metadata": {},
   "source": [
    "Let's visualize the data again and add the predicted labels"
   ]
  },
  {
   "cell_type": "code",
   "execution_count": null,
   "id": "88153670-3547-4b65-bd93-d99159f15eb2",
   "metadata": {},
   "outputs": [],
   "source": [
    "fig, axes = plt.subplots(3, 3, figsize=(6, 6))\n",
    "for idx, ax in enumerate(axes.flatten()):\n",
    "    ax.imshow(X[selection[idx]], cmap='gray')\n",
    "    ax.set_title(f'label: {y[selection[idx]]} pred: {y_pred[idx]}')\n",
    "    ax.axis('off')"
   ]
  },
  {
   "cell_type": "markdown",
   "id": "bb94ef56-3fb2-465e-850e-e124ff539d9b",
   "metadata": {},
   "source": [
    "The model is 100% correct on these 9 examples. Now we can get to the actual explainable AI part"
   ]
  },
  {
   "cell_type": "markdown",
   "id": "d62e0645-2513-4565-9ce5-2cbc1fccdf0a",
   "metadata": {},
   "source": [
    "## Explainable AI with DIANNA"
   ]
  },
  {
   "cell_type": "code",
   "execution_count": null,
   "id": "9c7ec4c8-94da-4ae9-ac5a-594f90ccf6ee",
   "metadata": {},
   "outputs": [],
   "source": [
    "import dianna"
   ]
  },
  {
   "cell_type": "markdown",
   "id": "c23d3146-d554-4f08-933a-60aaaf106e9e",
   "metadata": {},
   "source": [
    "Select one image to use DIANNA on"
   ]
  },
  {
   "cell_type": "code",
   "execution_count": null,
   "id": "c4bee1e4-df21-4b5b-8bd9-e9b054919a9e",
   "metadata": {},
   "outputs": [],
   "source": [
    "image = X_examples[:1]"
   ]
  },
  {
   "cell_type": "markdown",
   "id": "44e24923-6501-41e7-97d3-dd84a8aed416",
   "metadata": {},
   "source": [
    "The simplest way to use DIANNA is with `dianna.explain_image` or `dianna.explain_text`.  \n",
    "Here we use the RISE method, which explains the input image by masking random parts of it and\n",
    "then checking how the output of the model changes."
   ]
  },
  {
   "cell_type": "code",
   "execution_count": null,
   "id": "727adaac-e372-49d4-aa84-ecdd890c8d24",
   "metadata": {},
   "outputs": [],
   "source": [
    "explanation = dianna.explain_image(runner, image, method='RISE',\n",
    "                                   n_masks=5000, p_keep=.1)"
   ]
  },
  {
   "cell_type": "markdown",
   "id": "b3dcd924-b3fc-4af0-93dc-2586eba5a323",
   "metadata": {},
   "source": [
    "For each class (two in this case), an explanation with a shape equal to the input image is generated."
   ]
  },
  {
   "cell_type": "code",
   "execution_count": null,
   "id": "a0eb5943-6657-4ca9-a3ea-088c832f6dd5",
   "metadata": {},
   "outputs": [],
   "source": [
    "print(explanation.shape)"
   ]
  },
  {
   "cell_type": "markdown",
   "id": "5342a1bb-b425-4d20-8163-5c6fef3c7a57",
   "metadata": {},
   "source": [
    "The explanations can be considered images and can be plotted with e.g. `matplotlib`.  \n",
    "DIANNA also includes visualization tools."
   ]
  },
  {
   "cell_type": "code",
   "execution_count": null,
   "id": "f51f0a2b-d633-4797-a734-ae1884c536b0",
   "metadata": {},
   "outputs": [],
   "source": [
    "from dianna.visualization import plot_image"
   ]
  },
  {
   "cell_type": "code",
   "execution_count": null,
   "id": "9b37607a-d1be-4683-982c-3b22f1525473",
   "metadata": {},
   "outputs": [],
   "source": [
    "# Explanation for class 0\n",
    "plot_image(explanation[0], heatmap_cmap='bwr', show_plot=False)\n",
    "plt.title('Explanation for class 0')\n",
    "plot_image(explanation[0], original_data=image[0], heatmap_cmap='bwr', data_cmap='gray', show_plot=False)\n",
    "plt.title('Explanation for class 0 with original image');"
   ]
  },
  {
   "cell_type": "markdown",
   "id": "e68142f4-42b9-4fc7-a747-34f35d2ed1d6",
   "metadata": {},
   "source": [
    "Note that in these plots, red means important and blue means unimportant. We see that the left, bottom, and right side of the zero are most in favour of classifying the image as a zero, while the top part is least in favour of it.\n",
    "\n",
    "We can also look at the heatmap for class 1."
   ]
  },
  {
   "cell_type": "code",
   "execution_count": null,
   "id": "57901297-33a7-43be-a69a-81ef60327176",
   "metadata": {},
   "outputs": [],
   "source": [
    "# Explanation for class 1\n",
    "plot_image(explanation[1], heatmap_cmap='bwr', show_plot=False)\n",
    "plt.title('Explanation for class 0')\n",
    "plot_image(explanation[1], original_data=image[0], heatmap_cmap='bwr', data_cmap='gray', show_plot=False)\n",
    "plt.title('Explanation for class 0 with original image');"
   ]
  },
  {
   "cell_type": "markdown",
   "id": "563c1043-d9b8-4baa-8454-a7afefd59d37",
   "metadata": {},
   "source": [
    "This looks very similar to the explanation for class 0, but with inverted colours as expected: any pixel in favour of zero is against one, and vice-versa."
   ]
  },
  {
   "cell_type": "code",
   "execution_count": null,
   "id": "7ed1ecad-6a1c-4dd5-bace-cf447b511765",
   "metadata": {},
   "outputs": [],
   "source": []
  }
 ],
 "metadata": {
  "kernelspec": {
   "display_name": "Python 3 (ipykernel)",
   "language": "python",
   "name": "python3"
  },
  "language_info": {
   "codemirror_mode": {
    "name": "ipython",
    "version": 3
   },
   "file_extension": ".py",
   "mimetype": "text/x-python",
   "name": "python",
   "nbconvert_exporter": "python",
   "pygments_lexer": "ipython3",
   "version": "3.9.1"
  }
 },
 "nbformat": 4,
 "nbformat_minor": 5
}
