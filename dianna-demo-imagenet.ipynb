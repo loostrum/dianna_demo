{
 "cells": [
  {
   "cell_type": "markdown",
   "id": "considered-teens",
   "metadata": {},
   "source": [
    "## DIANNA demo with Imagenet\n",
    "\n",
    "This notebook showcases the use of DIANNA on a Resnet network trained on a subset of the Imagenet dataset, containing 1000 categories."
   ]
  },
  {
   "cell_type": "markdown",
   "id": "bacterial-speech",
   "metadata": {},
   "source": [
    "#### Install and import packages"
   ]
  },
  {
   "cell_type": "code",
   "execution_count": null,
   "id": "grave-evanescence",
   "metadata": {
    "tags": []
   },
   "outputs": [],
   "source": [
    "!pip install git+https://github.com/dianna-ai/dianna.git"
   ]
  },
  {
   "cell_type": "code",
   "execution_count": null,
   "id": "relative-struggle",
   "metadata": {},
   "outputs": [],
   "source": [
    "import os\n",
    "import numpy as np\n",
    "import matplotlib.pyplot as plt\n",
    "from tensorflow.keras.applications.resnet50 import ResNet50, preprocess_input, decode_predictions\n",
    "from tensorflow.keras import backend as K\n",
    "from tensorflow.keras.preprocessing import image\n",
    "\n",
    "np.random.seed(42)"
   ]
  },
  {
   "cell_type": "code",
   "execution_count": null,
   "id": "basic-humanity",
   "metadata": {},
   "outputs": [],
   "source": [
    "# for google colab: clone and cd into the repository directory\n",
    "try:\n",
    "    import google.colab\n",
    "    colab = True\n",
    "except ImportError:\n",
    "    colab = False\n",
    "    \n",
    "if colab:\n",
    "    ! git clone https://github.com/loostrum/dianna_demo.git\n",
    "    os.chdir('dianna_demo')\n",
    "\n",
    "data_path = 'data/bee.jpg'"
   ]
  },
  {
   "cell_type": "markdown",
   "id": "voluntary-belgium",
   "metadata": {},
   "source": [
    "#### Define model and helper functions"
   ]
  },
  {
   "cell_type": "code",
   "execution_count": null,
   "id": "worst-contribution",
   "metadata": {},
   "outputs": [],
   "source": [
    "class Model():\n",
    "    def __init__(self):\n",
    "        K.set_learning_phase(0)\n",
    "        self.model = ResNet50()\n",
    "        self.input_size = (224, 224)\n",
    "        \n",
    "    def run_on_batch(self, x):\n",
    "        return self.model.predict(x)\n",
    "    \n",
    "model = Model()"
   ]
  },
  {
   "cell_type": "code",
   "execution_count": null,
   "id": "corporate-batman",
   "metadata": {
    "tags": []
   },
   "outputs": [],
   "source": [
    "def load_img(path):\n",
    "    img = image.load_img(path, target_size=model.input_size)\n",
    "    x = image.img_to_array(img)\n",
    "    x = np.expand_dims(x, axis=0)\n",
    "    x = preprocess_input(x)\n",
    "    return img, x"
   ]
  },
  {
   "cell_type": "code",
   "execution_count": null,
   "id": "growing-drama",
   "metadata": {},
   "outputs": [],
   "source": [
    "def class_name(idx):\n",
    "    return decode_predictions(np.eye(1, 1000, idx))[0][0][1]"
   ]
  },
  {
   "cell_type": "markdown",
   "id": "controversial-daisy",
   "metadata": {},
   "source": [
    "#### Run model on example data"
   ]
  },
  {
   "cell_type": "code",
   "execution_count": null,
   "id": "negative-bernard",
   "metadata": {},
   "outputs": [],
   "source": [
    "img, scaled_img = load_img(data_path)\n",
    "plt.imshow(img)\n",
    "plt.axis('off')"
   ]
  },
  {
   "cell_type": "code",
   "execution_count": null,
   "id": "reserved-arrangement",
   "metadata": {},
   "outputs": [],
   "source": [
    "sorted_classes = np.argsort(model.model.predict([scaled_img]))[0][::-1]\n",
    "print('\\n'.join(['{:4} {}'.format(c, class_name(c)) for c in sorted_classes[:10]]))"
   ]
  },
  {
   "cell_type": "markdown",
   "id": "efficient-accident",
   "metadata": {},
   "source": [
    "## Explainable AI with DIANNA"
   ]
  },
  {
   "cell_type": "code",
   "execution_count": null,
   "id": "protective-coupon",
   "metadata": {},
   "outputs": [],
   "source": [
    "import dianna"
   ]
  },
  {
   "cell_type": "code",
   "execution_count": null,
   "id": "timely-drill",
   "metadata": {},
   "outputs": [],
   "source": [
    "heatmaps = dianna.explain_image(model.run_on_batch, scaled_img, method='RISE')"
   ]
  },
  {
   "cell_type": "markdown",
   "id": "million-forward",
   "metadata": {},
   "source": [
    "For each class (1000 in this case), an explanation with a shape equal to the input image is generated."
   ]
  },
  {
   "cell_type": "code",
   "execution_count": null,
   "id": "accurate-committee",
   "metadata": {},
   "outputs": [],
   "source": [
    "print(heatmaps.shape)"
   ]
  },
  {
   "cell_type": "markdown",
   "id": "eight-thinking",
   "metadata": {},
   "source": [
    "The explanations can be considered images and can be plotted with e.g. `matplotlib`.  \n",
    "DIANNA also includes visualization tools."
   ]
  },
  {
   "cell_type": "code",
   "execution_count": null,
   "id": "prime-first",
   "metadata": {},
   "outputs": [],
   "source": [
    "from dianna.visualization import plot_image"
   ]
  },
  {
   "cell_type": "code",
   "execution_count": null,
   "id": "exempt-halifax",
   "metadata": {},
   "outputs": [],
   "source": [
    "for current_class_id in sorted_classes[:5]:\n",
    "    plot_image(heatmaps[current_class_id], original_data=image.img_to_array(img)/255., heatmap_cmap='jet', show_plot=False)\n",
    "    plt.title(f'Explanation for `{class_name(current_class_id)}`')\n",
    "    plt.axis('off')"
   ]
  },
  {
   "cell_type": "markdown",
   "id": "qualified-narrow",
   "metadata": {},
   "source": [
    "Note that in these plots, red means important and blue means unimportant."
   ]
  }
 ],
 "metadata": {
  "kernelspec": {
   "display_name": "Python 3 (ipykernel)",
   "language": "python",
   "name": "python3"
  },
  "language_info": {
   "codemirror_mode": {
    "name": "ipython",
    "version": 3
   },
   "file_extension": ".py",
   "mimetype": "text/x-python",
   "name": "python",
   "nbconvert_exporter": "python",
   "pygments_lexer": "ipython3",
   "version": "3.9.1"
  }
 },
 "nbformat": 4,
 "nbformat_minor": 5
}
