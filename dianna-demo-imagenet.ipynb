{
 "cells": [
  {
   "cell_type": "markdown",
   "id": "c929823b-6be3-4ed9-a0d2-bfe61cf8ce2f",
   "metadata": {},
   "source": [
    "## DIANNA demo with Imagenet\n",
    "\n",
    "This notebook showcases the use of DIANNA on a Resnet network trained on a subset of the Imagenet dataset, containing 1000 categories."
   ]
  },
  {
   "cell_type": "markdown",
   "id": "030c6a14-80a4-4fca-a0c7-73f2e54fa16c",
   "metadata": {},
   "source": [
    "#### Install and import packages"
   ]
  },
  {
   "cell_type": "code",
   "execution_count": null,
   "id": "b0b1e262-9f12-45ad-98ec-ffb5229b6a1d",
   "metadata": {
    "tags": []
   },
   "outputs": [],
   "source": [
    "!pip install git+https://github.com/dianna-ai/dianna.git"
   ]
  },
  {
   "cell_type": "code",
   "execution_count": null,
   "id": "ea1fe682-a7f7-43bb-867f-60c2ecaa3c8f",
   "metadata": {},
   "outputs": [],
   "source": [
    "import os\n",
    "import numpy as np\n",
    "import matplotlib.pyplot as plt\n",
    "from tensorflow.keras.applications.resnet50 import ResNet50, preprocess_input, decode_predictions\n",
    "from tensorflow.keras import backend as K\n",
    "from tensorflow.keras.preprocessing import image\n",
    "\n",
    "np.random.seed(42)"
   ]
  },
  {
   "cell_type": "code",
   "execution_count": null,
   "id": "c68a86f4-2f87-4dd0-8a28-478ace44d1e2",
   "metadata": {},
   "outputs": [],
   "source": [
    "# for google colab: cd into the repository directory\n",
    "try:\n",
    "    import google.colab\n",
    "    colab = True\n",
    "except ImportError:\n",
    "    colab = False\n",
    "    \n",
    "if colab:\n",
    "    ! git clone https://github.com/loostrum/dianna_demo.git\n",
    "    os.chdir('dianna_demo')\n",
    "\n",
    "data_path = 'data/bee.jpg'"
   ]
  },
  {
   "cell_type": "markdown",
   "id": "d7d5105b-be58-4e96-9436-6cebb692e332",
   "metadata": {},
   "source": [
    "#### Define model and helper functions"
   ]
  },
  {
   "cell_type": "code",
   "execution_count": null,
   "id": "4a566505-a6a1-4eb8-8ee5-498a302d408d",
   "metadata": {},
   "outputs": [],
   "source": [
    "class Model():\n",
    "    def __init__(self):\n",
    "        K.set_learning_phase(0)\n",
    "        self.model = ResNet50()\n",
    "        self.input_size = (224, 224)\n",
    "        \n",
    "    def run_on_batch(self, x):\n",
    "        return self.model.predict(x)\n",
    "    \n",
    "model = Model()"
   ]
  },
  {
   "cell_type": "code",
   "execution_count": null,
   "id": "da587a27-dedb-4f81-88ef-62bed4c6ee5c",
   "metadata": {
    "tags": []
   },
   "outputs": [],
   "source": [
    "def load_img(path):\n",
    "    img = image.load_img(path, target_size=model.input_size)\n",
    "    x = image.img_to_array(img)\n",
    "    x = np.expand_dims(x, axis=0)\n",
    "    x = preprocess_input(x)\n",
    "    return img, x"
   ]
  },
  {
   "cell_type": "code",
   "execution_count": null,
   "id": "12207f5e-988f-45d6-8f51-1eface6dffb8",
   "metadata": {},
   "outputs": [],
   "source": [
    "def class_name(idx):\n",
    "    return decode_predictions(np.eye(1, 1000, idx))[0][0][1]"
   ]
  },
  {
   "cell_type": "markdown",
   "id": "4d4bc747-8aa8-4d7b-9dca-28f8c4eaf395",
   "metadata": {},
   "source": [
    "#### Run model on example data"
   ]
  },
  {
   "cell_type": "code",
   "execution_count": null,
   "id": "07688d38-a15b-4e57-972c-e5913a55b599",
   "metadata": {},
   "outputs": [],
   "source": [
    "img, scaled_img = load_img(data_path)\n",
    "plt.imshow(img)\n",
    "plt.axis('off')"
   ]
  },
  {
   "cell_type": "code",
   "execution_count": null,
   "id": "88153670-3547-4b65-bd93-d99159f15eb2",
   "metadata": {},
   "outputs": [],
   "source": [
    "sorted_classes = np.argsort(model.model.predict([scaled_img]))[0][::-1]\n",
    "print('\\n'.join(['{:4} {}'.format(c, class_name(c)) for c in sorted_classes[:10]]))"
   ]
  },
  {
   "cell_type": "markdown",
   "id": "d62e0645-2513-4565-9ce5-2cbc1fccdf0a",
   "metadata": {},
   "source": [
    "## Explainable AI with DIANNA"
   ]
  },
  {
   "cell_type": "code",
   "execution_count": null,
   "id": "9c7ec4c8-94da-4ae9-ac5a-594f90ccf6ee",
   "metadata": {},
   "outputs": [],
   "source": [
    "from dianna.methods import RISE"
   ]
  },
  {
   "cell_type": "code",
   "execution_count": null,
   "id": "3adcde05-89f5-43ff-b6b9-8106f2d48a7d",
   "metadata": {},
   "outputs": [],
   "source": [
    "explainer = RISE(n_masks=1000, feature_res=8, p_keep=.5)\n",
    "heatmaps = explainer.explain_image(model.run_on_batch, scaled_img)"
   ]
  },
  {
   "cell_type": "markdown",
   "id": "b3dcd924-b3fc-4af0-93dc-2586eba5a323",
   "metadata": {},
   "source": [
    "For each class (1000 in this case), an explanation with a shape equal to the input image is generated."
   ]
  },
  {
   "cell_type": "code",
   "execution_count": null,
   "id": "a0eb5943-6657-4ca9-a3ea-088c832f6dd5",
   "metadata": {},
   "outputs": [],
   "source": [
    "print(heatmaps.shape)"
   ]
  },
  {
   "cell_type": "markdown",
   "id": "5342a1bb-b425-4d20-8163-5c6fef3c7a57",
   "metadata": {},
   "source": [
    "The explanations can be considered images and can be plotted with e.g. `matplotlib`.  \n",
    "DIANNA also includes visualization tools."
   ]
  },
  {
   "cell_type": "code",
   "execution_count": null,
   "id": "f51f0a2b-d633-4797-a734-ae1884c536b0",
   "metadata": {},
   "outputs": [],
   "source": [
    "from dianna.visualization import plot_image"
   ]
  },
  {
   "cell_type": "code",
   "execution_count": null,
   "id": "9b37607a-d1be-4683-982c-3b22f1525473",
   "metadata": {},
   "outputs": [],
   "source": [
    "for current_class_id in sorted_classes[:5]:\n",
    "    plot_image(heatmaps[current_class_id], original_data=image.img_to_array(img)/255., heatmap_cmap='jet', show_plot=False)\n",
    "    plt.title(f'Explanation for `{class_name(current_class_id)}`')\n",
    "    plt.axis('off')"
   ]
  },
  {
   "cell_type": "markdown",
   "id": "e68142f4-42b9-4fc7-a747-34f35d2ed1d6",
   "metadata": {},
   "source": [
    "Note that in these plots, red means important and blue means unimportant.\n",
    "\n",
    "If we want, we can investigate the internals of the explainable AI method. In the case of RISE, it generated random masks. We can look at these masks too see what parts of the image are masked."
   ]
  },
  {
   "cell_type": "code",
   "execution_count": null,
   "id": "7d2e222e-f52b-4151-afff-10b4d6f1374e",
   "metadata": {},
   "outputs": [],
   "source": [
    "fig, axes = plt.subplots(3, 3, figsize=(6, 6))\n",
    "for idx, ax in enumerate(axes.flatten()):\n",
    "    ax.imshow(explainer.masks[idx], cmap='gray')\n",
    "    ax.axis('off')"
   ]
  }
 ],
 "metadata": {
  "kernelspec": {
   "display_name": "Python 3 (ipykernel)",
   "language": "python",
   "name": "python3"
  },
  "language_info": {
   "codemirror_mode": {
    "name": "ipython",
    "version": 3
   },
   "file_extension": ".py",
   "mimetype": "text/x-python",
   "name": "python",
   "nbconvert_exporter": "python",
   "pygments_lexer": "ipython3",
   "version": "3.9.1"
  }
 },
 "nbformat": 4,
 "nbformat_minor": 5
}
